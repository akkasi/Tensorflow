{
 "cells": [
  {
   "cell_type": "markdown",
   "metadata": {},
   "source": [
    "# This snippet code shows that how you can use Tensorflow to solve linear regresiion problems. (X=W*Y)\n",
    "\n",
    "### To create Train and Test data, the code implemented in data class is used."
   ]
  },
  {
   "cell_type": "markdown",
   "metadata": {},
   "source": [
    "### ---------------------------------------------------------------------------"
   ]
  },
  {
   "cell_type": "code",
   "execution_count": 31,
   "metadata": {},
   "outputs": [],
   "source": [
    "import tensorflow as tf\n",
    "from util import data\n"
   ]
  },
  {
   "cell_type": "markdown",
   "metadata": {},
   "source": [
    "### Data Preparation -------------------------------------------------"
   ]
  },
  {
   "cell_type": "code",
   "execution_count": 32,
   "metadata": {},
   "outputs": [
    {
     "name": "stdout",
     "output_type": "stream",
     "text": [
      "Data Creation is Done!!\n"
     ]
    }
   ],
   "source": [
    "# Instantiate an object from data class. Overall number of samples created is 10000 which 20% of them are\n",
    "#selected randomly as Test data\n",
    "\n",
    "DataObj=data.Data(Sample_Number=1000,Test_percentage=20 )\n",
    "Train_x,Train_y, Test_x,Test_y=DataObj.LinReg_data()\n",
    "print('Data Creation is Done!!')"
   ]
  },
  {
   "cell_type": "markdown",
   "metadata": {},
   "source": [
    "### Structure Definition -----------------------------------------"
   ]
  },
  {
   "cell_type": "code",
   "execution_count": 39,
   "metadata": {},
   "outputs": [],
   "source": [
    "X= tf.placeholder(dtype=tf.float32)\n",
    "Y= tf.placeholder(dtype=tf.float32)\n",
    "learning_rate=0.01\n",
    "epochs_number=100\n",
    "W=tf.Variable(0.0,name='Weights') \n",
    "def model(X,W):\n",
    "    result=tf.multiply(X,W)\n",
    "    return result\n",
    "\n",
    "prediction=model(X,W)\n",
    "\n",
    "cost=tf.square(Y-prediction)\n",
    "\n",
    "train_step=tf.train.GradientDescentOptimizer(learning_rate).minimize(cost)\n",
    "\n",
    "Overall_Cost=tf.reduce_mean(cost)\n"
   ]
  },
  {
   "cell_type": "markdown",
   "metadata": {},
   "source": [
    "### Running the Graph---------------------------------------------------------------------------\n"
   ]
  },
  {
   "cell_type": "code",
   "execution_count": 41,
   "metadata": {},
   "outputs": [
    {
     "name": "stdout",
     "output_type": "stream",
     "text": [
      "2.98554\n",
      "0.223838\n"
     ]
    }
   ],
   "source": [
    "with tf.Session() as sess:\n",
    "    sess.run(tf.global_variables_initializer())\n",
    "    for i in range(epochs_number):\n",
    "        for (x,y) in zip(Train_x,Train_y):\n",
    "            feed_dict={X:x,Y:y}\n",
    "            sess.run(train_step,feed_dict)\n",
    "    #print(sess.run(W)) # to see what is the found value f\n",
    "    # Average loss on Test data\n",
    "    print(sess.run(Overall_Cost,feed_dict={X:Test_x,Y:Test_y}))"
   ]
  },
  {
   "cell_type": "code",
   "execution_count": null,
   "metadata": {
    "collapsed": true
   },
   "outputs": [],
   "source": []
  },
  {
   "cell_type": "markdown",
   "metadata": {},
   "source": []
  }
 ],
 "metadata": {
  "kernelspec": {
   "display_name": "Python 3",
   "language": "python",
   "name": "python3"
  },
  "language_info": {
   "codemirror_mode": {
    "name": "ipython",
    "version": 3
   },
   "file_extension": ".py",
   "mimetype": "text/x-python",
   "name": "python",
   "nbconvert_exporter": "python",
   "pygments_lexer": "ipython3",
   "version": "3.6.3"
  }
 },
 "nbformat": 4,
 "nbformat_minor": 2
}
