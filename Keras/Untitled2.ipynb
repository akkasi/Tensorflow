{
 "cells": [
  {
   "cell_type": "code",
   "execution_count": 34,
   "metadata": {},
   "outputs": [],
   "source": [
    "from keras import models,layers,optimizers,metrics\n",
    "from keras.datasets import reuters\n",
    "import matplotlib.pyplot as plt\n",
    "import numpy as np\n",
    "(train_data,train_labels),(test_data,test_labels) = reuters.load_data(num_words=10000)"
   ]
  },
  {
   "cell_type": "code",
   "execution_count": 4,
   "metadata": {},
   "outputs": [
    {
     "data": {
      "text/plain": [
       "8982"
      ]
     },
     "execution_count": 4,
     "metadata": {},
     "output_type": "execute_result"
    }
   ],
   "source": [
    "len(train_data)"
   ]
  },
  {
   "cell_type": "code",
   "execution_count": 11,
   "metadata": {},
   "outputs": [
    {
     "data": {
      "text/plain": [
       "'? the the a not 3 move in by should 22 in rebates dollar 000 reuters four after about and may in on february said on some reuter after about revs that secretary at and which to but a right would sale 31 said end said been for reuter that earlier for reuter and which mln representation improved noted said domestic said high for reuter that under loss for reuter 000 a sources versus after about last with sale 2 was 12 said co reuter 1 vs'"
      ]
     },
     "execution_count": 11,
     "metadata": {},
     "output_type": "execute_result"
    }
   ],
   "source": [
    "word_index = reuters.get_word_index()\n",
    "reverse_word_index = dict([(value,key) for (key,value) in word_index.items()])\n",
    "decodes_newswire = ' '.join([reverse_word_index.get(i-1,'?') for i in train_data[0]])\n",
    "decodes_newswire"
   ]
  },
  {
   "cell_type": "code",
   "execution_count": 17,
   "metadata": {
    "collapsed": true
   },
   "outputs": [],
   "source": [
    "def vectorize_sequences(sequences,dimansion = 10000):\n",
    "    results = np.zeros((len(sequences),dimansion))\n",
    "    for i, sequence in enumerate(sequences):\n",
    "        results[i,sequence] = 1.\n",
    "    return results\n",
    "    "
   ]
  },
  {
   "cell_type": "code",
   "execution_count": 18,
   "metadata": {},
   "outputs": [],
   "source": [
    "x_train = vectorize_sequences(train_data)\n",
    "x_test = vectorize_sequences(test_data)"
   ]
  },
  {
   "cell_type": "code",
   "execution_count": 25,
   "metadata": {
    "collapsed": true
   },
   "outputs": [],
   "source": [
    "def to_one_hot(labels,dimension=46):\n",
    "    results = np.zeros((len(labels),dimension))\n",
    "    for i, label in enumerate(labels):\n",
    "        results[i,label]=1\n",
    "    return results\n"
   ]
  },
  {
   "cell_type": "code",
   "execution_count": 26,
   "metadata": {
    "collapsed": true
   },
   "outputs": [],
   "source": [
    "one_hot_train_labels = to_one_hot(train_labels)\n",
    "one_hot_test_labels = to_one_hot(test_labels)"
   ]
  },
  {
   "cell_type": "code",
   "execution_count": 27,
   "metadata": {
    "collapsed": true
   },
   "outputs": [],
   "source": [
    "from keras.utils.np_utils import to_categorical"
   ]
  },
  {
   "cell_type": "code",
   "execution_count": 28,
   "metadata": {
    "collapsed": true
   },
   "outputs": [],
   "source": [
    "one_hot_train_labels = to_categorical(train_labels)\n",
    "one_hot_test_labels = to_categorical(test_labels)"
   ]
  },
  {
   "cell_type": "code",
   "execution_count": 29,
   "metadata": {
    "collapsed": true
   },
   "outputs": [],
   "source": [
    "model = models.Sequential()"
   ]
  },
  {
   "cell_type": "code",
   "execution_count": 30,
   "metadata": {
    "collapsed": true
   },
   "outputs": [],
   "source": [
    "model.add(layers.Dense(128,activation='relu',input_shape = (10000,)))\n",
    "model.add(layers.Dense(128,activation='relu'))\n",
    "model.add(layers.Dense(64,activation='tanh'))\n",
    "model.add(layers.Dense(64,activation='tanh'))\n",
    "model.add(layers.Dense(46,activation='softmax'))"
   ]
  },
  {
   "cell_type": "code",
   "execution_count": 31,
   "metadata": {
    "collapsed": true
   },
   "outputs": [],
   "source": [
    "model.compile(optimizer='rmsprop',loss='categorical_crossentropy',metrics=['accuracy'])"
   ]
  },
  {
   "cell_type": "code",
   "execution_count": 32,
   "metadata": {
    "collapsed": true
   },
   "outputs": [],
   "source": [
    "x_val = x_train[:1000]\n",
    "partial_x_train = x_train[1000:]\n",
    "y_val = one_hot_train_labels[:1000]\n",
    "partial_y_train = one_hot_train_labels[1000:]"
   ]
  },
  {
   "cell_type": "code",
   "execution_count": 33,
   "metadata": {},
   "outputs": [
    {
     "name": "stdout",
     "output_type": "stream",
     "text": [
      "Train on 7982 samples, validate on 1000 samples\n",
      "Epoch 1/20\n",
      "7982/7982 [==============================] - 1s 164us/step - loss: 2.2351 - acc: 0.5316 - val_loss: 1.4948 - val_acc: 0.6780\n",
      "Epoch 2/20\n",
      "7982/7982 [==============================] - 1s 132us/step - loss: 1.2688 - acc: 0.7239 - val_loss: 1.1745 - val_acc: 0.7370\n",
      "Epoch 3/20\n",
      "7982/7982 [==============================] - 1s 129us/step - loss: 0.9408 - acc: 0.7943 - val_loss: 1.0967 - val_acc: 0.7510\n",
      "Epoch 4/20\n",
      "7982/7982 [==============================] - 1s 124us/step - loss: 0.7256 - acc: 0.8527 - val_loss: 0.9876 - val_acc: 0.7840\n",
      "Epoch 5/20\n",
      "7982/7982 [==============================] - 1s 128us/step - loss: 0.5804 - acc: 0.8871 - val_loss: 0.9275 - val_acc: 0.8040\n",
      "Epoch 6/20\n",
      "7982/7982 [==============================] - 1s 124us/step - loss: 0.4409 - acc: 0.9171 - val_loss: 0.9970 - val_acc: 0.7660\n",
      "Epoch 7/20\n",
      "7982/7982 [==============================] - 1s 124us/step - loss: 0.3645 - acc: 0.9301 - val_loss: 0.9163 - val_acc: 0.7830\n",
      "Epoch 8/20\n",
      "7982/7982 [==============================] - 1s 124us/step - loss: 0.2810 - acc: 0.9459 - val_loss: 0.9044 - val_acc: 0.7950\n",
      "Epoch 9/20\n",
      "7982/7982 [==============================] - 1s 123us/step - loss: 0.2346 - acc: 0.9511 - val_loss: 0.9820 - val_acc: 0.7730\n",
      "Epoch 10/20\n",
      "7982/7982 [==============================] - 1s 123us/step - loss: 0.2019 - acc: 0.9520 - val_loss: 0.9201 - val_acc: 0.8020\n",
      "Epoch 11/20\n",
      "7982/7982 [==============================] - 1s 123us/step - loss: 0.1695 - acc: 0.9570 - val_loss: 0.9304 - val_acc: 0.7970\n",
      "Epoch 12/20\n",
      "7982/7982 [==============================] - 1s 124us/step - loss: 0.1499 - acc: 0.9569 - val_loss: 0.9617 - val_acc: 0.7970\n",
      "Epoch 13/20\n",
      "7982/7982 [==============================] - 1s 123us/step - loss: 0.1341 - acc: 0.9568 - val_loss: 0.9930 - val_acc: 0.7870\n",
      "Epoch 14/20\n",
      "7982/7982 [==============================] - 1s 127us/step - loss: 0.1235 - acc: 0.9568 - val_loss: 1.0051 - val_acc: 0.7860\n",
      "Epoch 15/20\n",
      "7982/7982 [==============================] - 1s 130us/step - loss: 0.1150 - acc: 0.9580 - val_loss: 1.0050 - val_acc: 0.7950\n",
      "Epoch 16/20\n",
      "7982/7982 [==============================] - 1s 124us/step - loss: 0.1064 - acc: 0.9578 - val_loss: 0.9743 - val_acc: 0.7940\n",
      "Epoch 17/20\n",
      "7982/7982 [==============================] - 1s 137us/step - loss: 0.1001 - acc: 0.9594 - val_loss: 1.0217 - val_acc: 0.7810\n",
      "Epoch 18/20\n",
      "7982/7982 [==============================] - 1s 133us/step - loss: 0.0980 - acc: 0.9577 - val_loss: 1.0098 - val_acc: 0.7930\n",
      "Epoch 19/20\n",
      "7982/7982 [==============================] - 1s 130us/step - loss: 0.0931 - acc: 0.9574 - val_loss: 0.9954 - val_acc: 0.7950\n",
      "Epoch 20/20\n",
      "7982/7982 [==============================] - 1s 127us/step - loss: 0.0886 - acc: 0.9589 - val_loss: 1.0256 - val_acc: 0.7900\n"
     ]
    }
   ],
   "source": [
    "history = model.fit(partial_x_train,partial_y_train,epochs = 20, batch_size=512, validation_data=(x_val,y_val))"
   ]
  },
  {
   "cell_type": "code",
   "execution_count": 36,
   "metadata": {
    "scrolled": true
   },
   "outputs": [
    {
     "data": {
      "image/png": "[encoded data removed]",
      "text/plain": [
       "<Figure size 432x288 with 1 Axes>"
      ]
     },
     "metadata": {},
     "output_type": "display_data"
    }
   ],
   "source": [
    "loss = history.history['loss']\n",
    "val_loss = history.history['val_loss']\n",
    "epochs = range(1,len(loss)+1)\n",
    "plt.plot(epochs,loss,'bo',label= 'Training loss')\n",
    "plt.plot(epochs,val_loss,'b',label='Validation loss')\n",
    "plt.title('training and validation loss')\n",
    "plt.xlabel('Epochs')\n",
    "plt.ylabel('Loss')\n",
    "plt.legend()\n",
    "plt.show()\n"
   ]
  },
  {
   "cell_type": "code",
   "execution_count": 37,
   "metadata": {},
   "outputs": [
    {
     "data": {
      "image/png": "[encoded data removed]",
      "text/plain": [
       "<Figure size 432x288 with 1 Axes>"
      ]
     },
     "metadata": {},
     "output_type": "display_data"
    }
   ],
   "source": [
    "plt.clf()\n",
    "acc = history.history['acc']\n",
    "val_acc = history.history['val_acc']\n",
    "plt.plot(epochs, acc, 'bo', label='Training acc')\n",
    "plt.plot(epochs, val_acc, 'b', label='Validation acc')\n",
    "plt.title('Training and validation accuracy')\n",
    "plt.xlabel('Epochs')\n",
    "plt.ylabel('Loss')\n",
    "plt.legend()\n",
    "plt.show()"
   ]
  },
  {
   "cell_type": "code",
   "execution_count": 39,
   "metadata": {},
   "outputs": [
    {
     "name": "stdout",
     "output_type": "stream",
     "text": [
      "2246/2246 [==============================] - 0s 74us/step\n"
     ]
    },
    {
     "data": {
      "text/plain": [
       "[1.183103139975829, 0.7862867320210193]"
      ]
     },
     "execution_count": 39,
     "metadata": {},
     "output_type": "execute_result"
    }
   ],
   "source": [
    "results = model.evaluate(x_test,one_hot_test_labels)\n",
    "results"
   ]
  },
  {
   "cell_type": "code",
   "execution_count": 42,
   "metadata": {},
   "outputs": [
    {
     "data": {
      "text/plain": [
       "array([ 3, 10,  1, ...,  3,  3,  1])"
      ]
     },
     "execution_count": 42,
     "metadata": {},
     "output_type": "execute_result"
    }
   ],
   "source": [
    "predictions = model.predict_classes(x_test)\n",
    "predictions"
   ]
  }
 ],
 "metadata": {
  "kernelspec": {
   "display_name": "Python 3",
   "language": "python",
   "name": "python3"
  },
  "language_info": {
   "codemirror_mode": {
    "name": "ipython",
    "version": 3
   },
   "file_extension": ".py",
   "mimetype": "text/x-python",
   "name": "python",
   "nbconvert_exporter": "python",
   "pygments_lexer": "ipython3",
   "version": "3.6.3"
  }
 },
 "nbformat": 4,
 "nbformat_minor": 2
}
