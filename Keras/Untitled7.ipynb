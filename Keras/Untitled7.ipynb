{
 "cells": [
  {
   "cell_type": "code",
   "execution_count": 31,
   "metadata": {},
   "outputs": [
    {
     "name": "stdout",
     "output_type": "stream",
     "text": [
      "Corpus length: 600893\n"
     ]
    }
   ],
   "source": [
    "import keras\n",
    "import numpy as np\n",
    "path = keras.utils.get_file('nietzsche.txt',origin = 'https://s3.amazonaws.com/text-datasets/nietzsche.txt')\n",
    "text = open(path).read().lower()\n",
    "print('Corpus length:',len(text))"
   ]
  },
  {
   "cell_type": "code",
   "execution_count": 32,
   "metadata": {
    "scrolled": true
   },
   "outputs": [
    {
     "name": "stdout",
     "output_type": "stream",
     "text": [
      "Number of sequences: 200278\n",
      "Unique characters: 57\n",
      "Vectorization...\n"
     ]
    }
   ],
   "source": [
    "maxlen = 60\n",
    "step = 3\n",
    "sentences = []\n",
    "next_chars = []\n",
    "for i in range(0, len(text) - maxlen, step):\n",
    "    sentences.append(text[i: i + maxlen])\n",
    "    next_chars.append(text[i + maxlen])\n",
    "print('Number of sequences:', len(sentences))\n",
    "chars = sorted(list(set(text)))\n",
    "print('Unique characters:', len(chars))\n",
    "char_indices = dict((char, chars.index(char)) for char in chars)\n",
    "print('Vectorization...')\n",
    "x = np.zeros((len(sentences), maxlen, len(chars)), dtype=np.bool)\n",
    "y = np.zeros((len(sentences), len(chars)), dtype=np.bool)\n",
    "for i, sentence in enumerate(sentences):\n",
    "    for t, char in enumerate(sentence):\n",
    "        x[i, t, char_indices[char]] = 1\n",
    "    y[i, char_indices[next_chars[i]]] = 1"
   ]
  },
  {
   "cell_type": "code",
   "execution_count": 33,
   "metadata": {
    "collapsed": true
   },
   "outputs": [],
   "source": [
    "from keras import layers\n"
   ]
  },
  {
   "cell_type": "code",
   "execution_count": 36,
   "metadata": {},
   "outputs": [],
   "source": [
    "model = keras.models.Sequential()\n",
    "model.add(layers.LSTM(128,input_shape=(maxlen,len(chars))))\n",
    "model.add(layers.Dense(len(chars),activation='softmax'))\n",
    "optimizer = keras.optimizers.RMSprop(lr=0.01)\n",
    "model.compile(loss = 'categorical_crossentropy', optimizer =optimizer)"
   ]
  },
  {
   "cell_type": "code",
   "execution_count": 38,
   "metadata": {},
   "outputs": [],
   "source": [
    "def sample(preds, temperature=1.0):\n",
    "    preds = np.asarray(preds).astype('float64')\n",
    "    preds = np.log(preds) / temperature\n",
    "    exp_preds = np.exp(preds)\n",
    "    preds = exp_preds / np.sum(exp_preds)\n",
    "    probas = np.random.multinomial(1, preds, 1)\n",
    "    return np.argmax(probas)"
   ]
  },
  {
   "cell_type": "code",
   "execution_count": 41,
   "metadata": {},
   "outputs": [
    {
     "name": "stdout",
     "output_type": "stream",
     "text": [
      "epoch 1\n",
      "Epoch 1/1\n",
      "200278/200278 [==============================] - 148s 737us/step - loss: 1.5669\n",
      "--- Generating with seed: \"wever, to the\n",
      "animal \"man\" generally, to mankind.\n",
      "\n",
      "189. indu\"\n",
      "------ temperature: 0.2\n",
      "wever, to the\n",
      "animal \"man\" generally, to mankind.\n",
      "\n",
      "189. indutter and really the conception of the sense of the most and interestion of the sense of the superate of the sense of the sense of the sense of the sense which has the sense of the really of the superated and interelity of the sense of the constraction of the precisely and and in the sense of the prevent and in the sense of the sense of the sense of the sense of the sense of the experience of the s------ temperature: 0.5\n",
      "e sense of the sense of the sense of the experience of the stand in the pleasure of the really and the most perperse in all vicse that the finering which the believes: it is all at the will all refinence,\" and the sense precente of the sulmpt of the\n",
      "soul and contemplathing from the superstope, and the conduce is and an all that we the desired and arrortive and the merely and the philosophy; in the eledence of the great and the pucality of the sense of the ------ temperature: 1.0\n",
      " eledence of the great and the pucality of the sense of the interulist and endary, than sochet in inforeral\n",
      "hiss\" and clough than have kind of rarrical sreed\" its as leard: yeat: not diliging certain clours in cheronos of necessity. as ares--preforid, and import in all yet the previles\n",
      "scapably temant.\n",
      "\n",
      "er desibence of the \"lay.\n",
      "\n",
      "mone\n",
      "and\n",
      "pay sloot is the would to that  there really cruelty a contently philosophy, in a nevous some who he in greeds wandent ------ temperature: 1.2\n",
      "ently philosophy, in a nevous some who he in greeds wandent sin---schoprerental remain forether savening the uton the\n",
      "meathurical wan a dedismacrey predent of\n",
      "the\n",
      "greekscancem cultur, of thereadyrdowprimentic were,\n",
      "which, has once paths heart. it neverzelly surmich failrs; and for\n",
      "the youngusiagal plator of theinds and sufficially a trainly\n",
      "the\n",
      "experiend lreelsd, and as certain\n",
      "indecilaal (are example,, that (and one, her on the con.romequality, la laty exepoch 2\n",
      "Epoch 1/1\n",
      "200278/200278 [==============================] - 150s 751us/step - loss: 1.5230\n",
      "--- Generating with seed: \"emocratising of europe will tend to\n",
      "the production of a type\"\n",
      "------ temperature: 0.2\n",
      "emocratising of europe will tend to\n",
      "the production of a type of the secured of the secured to the sense of the sense of the present to a present to the sense of the more the superition of the suppolision of the present to the superition of the world and the sense to the condition of the sense of the self-to the strength and sense of the sense of the reading to the most self-themselves in the more the belief and distreams to the world and to the superition ------ temperature: 0.5\n",
      "the belief and distreams to the world and to the superition of the most believe to his a plession that a desire of the monish corring of the faction of the unwill of the more all them as the weaker to be some the present disisultes itself as a power of the science a fal is teachers something and refuned as the fartic and intellection of man\" to the world has son the decishonged that it was the act and\n",
      "infirile that they more trad, of the self--for the same------ temperature: 1.0\n",
      " and\n",
      "infirile that they more trad, of the self--for the same mection\n",
      "suctrier\n",
      "ratious the mirrish.=--end grolight, ackpicical, on this\n",
      "living whatever obpulsion. tolatived, we doss, though is, soless, whethou would rendve on ofilled: leach\n",
      "depecting as of this plede own spsiles too things\n",
      "that\n",
      "he plicisane upon it is the repudained\n",
      "to a myspeciall \"plefision of them, take mewe only personsed other be an ittimetic conduction of break\n",
      "a senfile and shoutrivo------ temperature: 1.2\n",
      " be an ittimetic conduction of break\n",
      "a senfile and shoutrivo surret-grow from lapsical, comecommormwdlage and belieg,\" that the orignos to they domare for which evro\n",
      "judgmen dishaby laboke thought hirh, only\n",
      "as fromled, us,ite ans to intaltilationws clook somethounisharged and doom for deol puid a harr: orly\n",
      "artumour! that in\n",
      "the\n",
      "cautieal \"king of the suldened unfor\n",
      "fringly phopen hor dasits, to be things, vuctal shood homong to the see has the\n",
      "rinc to thiepoch 3\n",
      "Epoch 1/1\n",
      "200278/200278 [==============================] - 150s 747us/step - loss: 1.4939\n",
      "--- Generating with seed: \"eems to him incredible. he can see in it\n",
      "only the wholly unm\"\n",
      "------ temperature: 0.2\n",
      "eems to him incredible. he can see in it\n",
      "only the wholly unmeral philosophers and deception of the spirit of the fact of the contine of the sense of the same to the conduct and the considerate that the present that the existence of the same man in the far of the same in the sures and the philosophers of the philosophers and the spirit of the consideration of the same to the consideration of the same to the philosophers of the present to the philosophers an------ temperature: 0.5\n",
      "me to the philosophers of the present to the philosophers and appearance and subtless that they in their instraction and the against that that which every same to metaphysics, that a remartion and science, with the same of the regard of the most flect of the spirit to\n",
      "a proposition of the same in\n",
      "that the doubt of the personal pains and who spirits.\n",
      "\n",
      "1\n",
      "re we seems of religion of the same nature has been individual takes and the comminition and present to p------ temperature: 1.0\n",
      "s been individual takes and the comminition and present to precession of his\n",
      "people such a\n",
      "rescre beconorth and that have\n",
      "ksenough herst found systened creachet of men units, \"meance, more perceive therefore, that that the herming spirit men\n",
      "homent traor of nem time, it and the other exiscially and speasing,\n",
      "readises virtual freedomed to trinty, come perhads under sogersing\n",
      "manifests.\"\n",
      "\n",
      "33.\n",
      "a meanle, in tor as helloosing inclened, to he to attruficus and c------ temperature: 1.2\n",
      "le, in tor as helloosing inclened, to he to attruficus and cane, as, itnestispes, light\n",
      "varies about they naats.\n",
      "\n",
      "\n",
      "2urtecis.\n",
      "\n",
      ".\n",
      "\n",
      "1lakens.\n",
      "\n",
      "23a.\n",
      "it figndless.\"  yc dograte\n",
      "idless!\n",
      "  'ful this\n",
      "aby larvouct their include occupsives who he cruelty. : self no do understanditist of mates tries. bay \"gand thas well\n",
      "dinext; woman\n",
      "\n",
      "ib\n",
      "-persurved. for \n",
      "!restary new,\n",
      "stronging and apparatorshly \"course fall, doubtions aroprys to trait\n",
      "for god: it would tercire\n",
      "at\n",
      "havepoch 4\n",
      "Epoch 1/1\n",
      "200278/200278 [==============================] - 149s 744us/step - loss: 1.4764\n",
      "--- Generating with seed: \"s wakefulness itself, are the heirs of all the strength\n",
      "whic\"\n",
      "------ temperature: 0.2\n",
      "s wakefulness itself, are the heirs of all the strength\n",
      "which the most the spiritual of the spiritual of the condition of the spiritual the spirity of the same the condition of the spirit of the spirit of the present to an and the desire of the same in the fact that the condition of the spirity that is a standand of the most something the present to the same the fact of the same the present to the condition of the spiritual and the same the same and the sa------ temperature: 0.5\n",
      " condition of the spiritual and the same the same and the same the will be and the historical hablity the same desire that \"problem of the experiently to and by not the significe, for the reart and a sure in condition, are one has a life the same the really history, and in such amined and most spiritude of all the ordination on the spirit and spiritual and in spiritual betoming the after the over the precisely the order and between disposition of the indiv------ temperature: 1.0\n",
      "the precisely the order and between disposition of the individual, a gevtn dictated himnentity and higher operate-ifancess, the after philosophy.tesrage of will, natural, it\n",
      "is\n",
      "rended itself to bad forouthsicular and the precisely one singutificed in people to enit perfortury and regardand and always really. men, but it have there is prehal a law of \"givit that which the love, and it is every\n",
      "the heart, \n",
      "'preption is\n",
      "to awed himself--if their taste. whithe------ temperature: 1.2\n",
      "heart, \n",
      "'preption is\n",
      "to awed himself--if their taste. whither; the magedan one\n",
      "so aw will be ourings of\n",
      "such pidetitionfatnateddy  to reart as\n"
     ]
    },
    {
     "name": "stdout",
     "output_type": "stream",
     "text": [
      "religions-istiblitility in relid of the strugge of moraly uncountrect one work explamate chriptign:--and dousish,\n",
      "speaking\n",
      "which one\n",
      "could so\n",
      "anying of\n",
      "amility, motelictlicg charapty, we sixisted in fac rongment. hence raterantivels on it so realitour beling--as ty a men.\n",
      "\n",
      "\n",
      "en a fal which name inlating the sanction "
     ]
    }
   ],
   "source": [
    "import random\n",
    "import sys\n",
    "for epoch in range(1, 5):\n",
    "    print('epoch', epoch)\n",
    "    model.fit(x, y, batch_size=128, epochs=1)\n",
    "    start_index = random.randint(0, len(text) - maxlen - 1)\n",
    "    generated_text = text[start_index: start_index + maxlen]\n",
    "    print('--- Generating with seed: \"' + generated_text + '\"')\n",
    "    for temperature in [0.2, 0.5, 1.0, 1.2]:\n",
    "        print('------ temperature:', temperature)\n",
    "        sys.stdout.write(generated_text)\n",
    "        for i in range(400):\n",
    "            sampled = np.zeros((1, maxlen, len(chars)))\n",
    "            for t, char in enumerate(generated_text):\n",
    "                sampled[0, t, char_indices[char]] = 1.\n",
    "            preds = model.predict(sampled, verbose=0)[0]\n",
    "            next_index = sample(preds, temperature)\n",
    "            next_char = chars[next_index]\n",
    "            generated_text += next_char\n",
    "            generated_text = generated_text[1:]\n",
    "            sys.stdout.write(next_char)"
   ]
  }
 ],
 "metadata": {
  "kernelspec": {
   "display_name": "Python 3",
   "language": "python",
   "name": "python3"
  },
  "language_info": {
   "codemirror_mode": {
    "name": "ipython",
    "version": 3
   },
   "file_extension": ".py",
   "mimetype": "text/x-python",
   "name": "python",
   "nbconvert_exporter": "python",
   "pygments_lexer": "ipython3",
   "version": "3.6.3"
  }
 },
 "nbformat": 4,
 "nbformat_minor": 2
}
