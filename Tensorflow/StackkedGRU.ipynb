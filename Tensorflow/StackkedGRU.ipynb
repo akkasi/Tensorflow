{
 "cells": [
  {
   "cell_type": "markdown",
   "metadata": {},
   "source": [
    "### This snnipet code shows the implementation of stacked GRU using Tensorflow. "
   ]
  },
  {
   "cell_type": "code",
   "execution_count": 1,
   "metadata": {},
   "outputs": [
    {
     "name": "stderr",
     "output_type": "stream",
     "text": [
      "/home/akkasi/anaconda3/lib/python3.6/importlib/_bootstrap.py:219: RuntimeWarning: compiletime version 3.5 of module 'tensorflow.python.framework.fast_tensor_util' does not match runtime version 3.6\n",
      "  return f(*args, **kwds)\n"
     ]
    }
   ],
   "source": [
    "import tensorflow as tf\n",
    "from util.data import *\n",
    "from tensorflow.contrib import rnn\n",
    "from math import *"
   ]
  },
  {
   "cell_type": "markdown",
   "metadata": {},
   "source": [
    "#### Parameters and Data ------------------------------------------------------------------------------"
   ]
  },
  {
   "cell_type": "code",
   "execution_count": 3,
   "metadata": {
    "collapsed": true
   },
   "outputs": [],
   "source": [
    "learning_rate=0.001\n",
    "batch_size=256\n",
    "display_step=100\n",
    "epochs=1000\n",
    "Sample_number=1000\n",
    "Feature_Number=1024\n",
    "DataObj=Data(data_len=Feature_Number,Sample_Number=Sample_number,Test_percentage=40)\n",
    "Train_x,Train_y,Test_x,Test_y=DataObj.CNN_data()\n",
    "Number_of_batches=int(len(Train_x)/batch_size)\n",
    "GRU_Layers=3\n",
    "GRU_size=500 # Number of hidden units in each layer\n",
    "Input_size=int(sqrt(Feature_Number))\n",
    "time_step=int(sqrt(Feature_Number))\n",
    "\n",
    "X=tf.placeholder(\"float\",[None,time_step,Input_size])\n",
    "Y=tf.placeholder(\"float\",[None,10])\n",
    "output_keep_prob=tf.placeholder(\"float\")\n",
    "Weights={'Wo':tf.Variable(tf.random_normal([GRU_size,10],stddev=0.01)),\n",
    "        'bo':tf.Variable(tf.random_normal([10]))}"
   ]
  },
  {
   "cell_type": "markdown",
   "metadata": {},
   "source": [
    "#### Model Definition ----------------------------------------------------------------------------"
   ]
  },
  {
   "cell_type": "code",
   "execution_count": 6,
   "metadata": {
    "collapsed": true
   },
   "outputs": [],
   "source": [
    "def Stacked_GRU(X,Weights):\n",
    "    # the original data is of form batch_size*time_step*InputSize  and to use in GRU we need to have it in the form of\n",
    "    # time_step*batch_size*InputSize\n",
    "    X=tf.unstack(X,time_step,1)\n",
    "    cells=[]\n",
    "    for i in range(GRU_Layers):\n",
    "        cell=rnn.GRUCell(GRU_size)\n",
    "        cell=rnn.DropoutWrapper(cell,output_keep_prob=output_keep_prob)\n",
    "        cells.append(cell)\n",
    "    GRU_cells=rnn.MultiRNNCell(cells)\n",
    "    Outputs,States=rnn.static_rnn(GRU_cells,X,dtype=tf.float32)\n",
    "    out=tf.matmul(Outputs[-1],Weights['Wo'])+Weights['bo']\n",
    "    return tf.nn.softmax(out)"
   ]
  },
  {
   "cell_type": "code",
   "execution_count": 7,
   "metadata": {},
   "outputs": [],
   "source": [
    "Prediction=Stacked_GRU(X,Weights)\n",
    "cost=tf.reduce_mean(tf.nn.softmax_cross_entropy_with_logits(logits=Prediction,labels=Y))\n",
    "train_step=tf.train.GradientDescentOptimizer(learning_rate).minimize(cost)\n",
    "True_Predictions=tf.equal(tf.argmax(Prediction,1),tf.argmax(Y,1))\n",
    "Accuracy=tf.reduce_mean(tf.cast(True_Predictions,'float'))"
   ]
  },
  {
   "cell_type": "markdown",
   "metadata": {},
   "source": [
    "#### Graph Running ----------------------------------------------"
   ]
  },
  {
   "cell_type": "code",
   "execution_count": 8,
   "metadata": {},
   "outputs": [
    {
     "name": "stdout",
     "output_type": "stream",
     "text": [
      "Epoch: 000/1000 cost: 2.313778639 train_acc: 0.004 test_acc: 0.015\n",
      "Epoch: 100/1000 cost: 2.313351393 train_acc: 0.004 test_acc: 0.015\n",
      "Epoch: 200/1000 cost: 2.312615156 train_acc: 0.000 test_acc: 0.015\n",
      "Epoch: 300/1000 cost: 2.312104821 train_acc: 0.004 test_acc: 0.015\n",
      "Epoch: 400/1000 cost: 2.307127714 train_acc: 0.012 test_acc: 0.015\n",
      "Epoch: 500/1000 cost: 2.305594921 train_acc: 0.012 test_acc: 0.015\n",
      "Epoch: 600/1000 cost: 2.312476635 train_acc: 0.004 test_acc: 0.015\n",
      "Epoch: 700/1000 cost: 2.304849982 train_acc: 0.008 test_acc: 0.015\n",
      "Epoch: 800/1000 cost: 2.304583907 train_acc: 0.012 test_acc: 0.015\n",
      "Epoch: 900/1000 cost: 2.308006883 train_acc: 0.008 test_acc: 0.015\n"
     ]
    }
   ],
   "source": [
    "with tf.Session() as sess:\n",
    "    sess.run(tf.global_variables_initializer())\n",
    "    for i in range(epochs):\n",
    "        cost_avg = 0\n",
    "        for j in range(Number_of_batches):\n",
    "            Trx, Try = next_batch(batch_size, Train_x, Train_y)\n",
    "            # Reshape Inputs into batch_size*timesteps*Input_size_for_each_Cell form\n",
    "            Trx = Trx.reshape(batch_size, time_step, Input_size)\n",
    "            sess.run(train_step, feed_dict={X: Trx, Y: Try, output_keep_prob: 0.8})\n",
    "            cost_avg += sess.run(cost, feed_dict={X: Trx, Y: Try, output_keep_prob: 0.8}) / Number_of_batches\n",
    "        if i % display_step == 0:\n",
    "            Train_Accuracy = sess.run(Accuracy, feed_dict={X: Trx, Y: Try, output_keep_prob: 1.})\n",
    "            Test_x = Test_x.reshape(-1, time_step, Input_size)\n",
    "            Test_Accuracy = sess.run(Accuracy, feed_dict={X: Test_x, Y: Test_y, output_keep_prob: 1.})\n",
    "            print(\"Epoch: %03d/%03d cost: %.9f train_acc: %.3f test_acc: %.3f\"\n",
    "                  % (i, epochs, cost_avg, Train_Accuracy, Test_Accuracy))\n",
    "sess.close()"
   ]
  },
  {
   "cell_type": "code",
   "execution_count": null,
   "metadata": {
    "collapsed": true
   },
   "outputs": [],
   "source": []
  }
 ],
 "metadata": {
  "kernelspec": {
   "display_name": "Python 3",
   "language": "python",
   "name": "python3"
  },
  "language_info": {
   "codemirror_mode": {
    "name": "ipython",
    "version": 3
   },
   "file_extension": ".py",
   "mimetype": "text/x-python",
   "name": "python",
   "nbconvert_exporter": "python",
   "pygments_lexer": "ipython3",
   "version": "3.6.3"
  }
 },
 "nbformat": 4,
 "nbformat_minor": 2
}
