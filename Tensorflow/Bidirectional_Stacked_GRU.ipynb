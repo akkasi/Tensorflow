{
 "cells": [
  {
   "cell_type": "markdown",
   "metadata": {},
   "source": [
    "### Bidirectional Stacked LSTM is implemented here. Like other code snippets the artificially created data is used for experiments instead of commonly used mnist data set."
   ]
  },
  {
   "cell_type": "code",
   "execution_count": null,
   "metadata": {},
   "outputs": [],
   "source": [
    "import tensorflow as tf\n",
    "from util.data import *\n",
    "from tensorflow.contrib import rnn \n",
    "from math import *\n"
   ]
  },
  {
   "cell_type": "markdown",
   "metadata": {},
   "source": [
    "#### Parameters ------------------------------------------------------------------------------------------------"
   ]
  },
  {
   "cell_type": "code",
   "execution_count": null,
   "metadata": {
    "collapsed": true
   },
   "outputs": [],
   "source": [
    "learning_rate=0.001\n",
    "batch_size=256\n",
    "display_step=100\n",
    "epochs=1000\n",
    "\n",
    "Sample_number=1000\n",
    "Feature_Number=1024\n",
    "DataObj=Data(data_len=Feature_Number,Sample_Number=Sample_number,Test_percentage=40)\n",
    "Train_x,Train_y,Test_x,Test_y=DataObj.CNN_data()\n",
    "Number_of_batches=int(len(Train_x)/batch_size)\n",
    "GRU_Layers=3\n",
    "GRU_size=500 # Number of hidden units in each layer\n",
    "Input_size=int(sqrt(Feature_Number))\n",
    "time_step=int(sqrt(Feature_Number))\n",
    "\n",
    "X=tf.placeholder(\"float\",[None,time_step,Input_size])\n",
    "Y=tf.placeholder(\"float\",[None,10])\n",
    "output_keep_prob=tf.placeholder(\"float\")\n",
    "\n",
    "Weights={'Wo':tf.Variable(tf.random_normal([2*GRU_size,10],stddev=0.01)),\n",
    "        'bo':tf.Variable(tf.random_normal([10]))} # Since we have 2 lstm at the end, one for forward lstm and other one from backward lstm"
   ]
  },
  {
   "cell_type": "markdown",
   "metadata": {},
   "source": [
    "#### Model Definition ----------------------------------------------------------------------------------------------------"
   ]
  },
  {
   "cell_type": "code",
   "execution_count": null,
   "metadata": {
    "collapsed": true
   },
   "outputs": [],
   "source": [
    "def Bidirectional_Stacked_GRU(X,Weights):\n",
    "    # the original data is of form batch_size*time_step*InputSize  and to use in GRU we need to have it in the form of\n",
    "    # time_step*batch_size*InputSize\n",
    "    X=tf.unstack(X,time_step,1)\n",
    "    cells_fw=[]\n",
    "    cells_bw=[]\n",
    "    for i in range(GRU_Layers):\n",
    "        cell_fw=rnn.GRUCell(GRU_size)\n",
    "        cell_fw=rnn.DropoutWrapper(cell_fw,output_keep_prob=output_keep_prob)\n",
    "        cells_fw.append(cell_fw)\n",
    "        \n",
    "        cell_bw=rnn.GRUCell(GRU_size)\n",
    "        cell_bw=rnn.DropoutWrapper(cell_bw,output_keep_prob=output_keep_prob)\n",
    "        cells_bw.append(cell_bw)\n",
    "        \n",
    "    \n",
    "    Outputs,_,_=rnn.stack_bidirectional_rnn(cells_fw,cells_bw,X,dtype=tf.float32)\n",
    "    \n",
    "    out=tf.matmul(Outputs[-1],Weights['Wo'])+Weights['bo']\n",
    "    return tf.nn.softmax(out)"
   ]
  },
  {
   "cell_type": "code",
   "execution_count": null,
   "metadata": {
    "collapsed": true
   },
   "outputs": [],
   "source": [
    "Prediction=Bidirectional_Stacked_GRU(X,Weights)\n",
    "cost=tf.reduce_mean(tf.nn.softmax_cross_entropy_with_logits(logits=Prediction,labels=Y))\n",
    "train_step=tf.train.GradientDescentOptimizer(learning_rate).minimize(cost)\n",
    "True_Predictions=tf.equal(tf.argmax(Prediction,1),tf.argmax(Y,1))\n",
    "Accuracy=tf.reduce_mean(tf.cast(True_Predictions,'float'))"
   ]
  },
  {
   "cell_type": "markdown",
   "metadata": {},
   "source": [
    "#### Graph running -----------------------------------------------------------------------------------------------"
   ]
  },
  {
   "cell_type": "code",
   "execution_count": null,
   "metadata": {},
   "outputs": [],
   "source": [
    "with tf.Session() as sess:\n",
    "    sess.run(tf.global_variables_initializer())\n",
    "    for i in range(epochs):\n",
    "        \n",
    "        cost_avg=0\n",
    "        for j in range(Number_of_batches):\n",
    "            Trx,Try=next_batch(batch_size, Train_x,Train_y)\n",
    "            # Reshape Inputs into batch_size*timesteps*Input_size_for_each_Cell form\n",
    "            Trx=Trx.reshape(batch_size,time_step,Input_size)\n",
    "            sess.run(train_step,feed_dict={X:Trx,Y:Try,output_keep_prob:0.8})\n",
    "            cost_avg+=sess.run(cost,feed_dict={X:Trx,Y:Try,output_keep_prob:0.8})/Number_of_batches\n",
    "        if i%display_step==0:\n",
    "            Train_Accuracy=sess.run(Accuracy,feed_dict={X:Trx,Y:Try,output_keep_prob:1.})\n",
    "            Test_x=Test_x.reshape(-1,time_step,Input_size)\n",
    "            Test_Accuracy=sess.run(Accuracy,feed_dict={X:Test_x,Y:Test_y,output_keep_prob:1.})\n",
    "            print (\"Epoch: %03d/%03d cost: %.9f train_acc: %.3f test_acc: %.3f\" \n",
    "                   % (i, epochs, cost_avg, Train_Accuracy, Test_Accuracy))\n",
    "sess.close()\n",
    "           "
   ]
  },
  {
   "cell_type": "code",
   "execution_count": null,
   "metadata": {
    "collapsed": true
   },
   "outputs": [],
   "source": []
  }
 ],
 "metadata": {
  "kernelspec": {
   "display_name": "Python 3",
   "language": "python",
   "name": "python3"
  },
  "language_info": {
   "codemirror_mode": {
    "name": "ipython",
    "version": 3
   },
   "file_extension": ".py",
   "mimetype": "text/x-python",
   "name": "python",
   "nbconvert_exporter": "python",
   "pygments_lexer": "ipython3",
   "version": "3.6.3"
  }
 },
 "nbformat": 4,
 "nbformat_minor": 2
}
