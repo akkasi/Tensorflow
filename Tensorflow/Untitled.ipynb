{
 "cells": [
  {
   "cell_type": "code",
   "execution_count": 25,
   "metadata": {},
   "outputs": [
    {
     "name": "stdout",
     "output_type": "stream",
     "text": [
      "Train on 5 samples, validate on 1 samples\n",
      "Epoch 1/20\n",
      "0s - loss: 6.6481 - acc: 0.6000 - val_loss: 16.3185 - val_acc: 0.0000e+00\n",
      "Epoch 2/20\n",
      "0s - loss: 6.6473 - acc: 0.6000 - val_loss: 16.3177 - val_acc: 0.0000e+00\n",
      "Epoch 3/20\n",
      "0s - loss: 6.6465 - acc: 0.6000 - val_loss: 16.3168 - val_acc: 0.0000e+00\n",
      "Epoch 4/20\n",
      "0s - loss: 6.6456 - acc: 0.6000 - val_loss: 16.3159 - val_acc: 0.0000e+00\n",
      "Epoch 5/20\n",
      "0s - loss: 6.6447 - acc: 0.6000 - val_loss: 16.3150 - val_acc: 0.0000e+00\n",
      "Epoch 6/20\n",
      "0s - loss: 6.6438 - acc: 0.6000 - val_loss: 16.3142 - val_acc: 0.0000e+00\n",
      "Epoch 7/20\n",
      "0s - loss: 6.6430 - acc: 0.6000 - val_loss: 16.3133 - val_acc: 0.0000e+00\n",
      "Epoch 8/20\n",
      "0s - loss: 6.6421 - acc: 0.6000 - val_loss: 16.3124 - val_acc: 0.0000e+00\n",
      "Epoch 9/20\n",
      "0s - loss: 6.6412 - acc: 0.6000 - val_loss: 16.3116 - val_acc: 0.0000e+00\n",
      "Epoch 10/20\n",
      "0s - loss: 6.6404 - acc: 0.6000 - val_loss: 16.3107 - val_acc: 0.0000e+00\n",
      "Epoch 11/20\n",
      "0s - loss: 6.6395 - acc: 0.6000 - val_loss: 16.3099 - val_acc: 0.0000e+00\n",
      "Epoch 12/20\n",
      "0s - loss: 6.6387 - acc: 0.6000 - val_loss: 16.3090 - val_acc: 0.0000e+00\n",
      "Epoch 13/20\n",
      "0s - loss: 6.6378 - acc: 0.6000 - val_loss: 16.3082 - val_acc: 0.0000e+00\n",
      "Epoch 14/20\n",
      "0s - loss: 6.6370 - acc: 0.6000 - val_loss: 16.3073 - val_acc: 0.0000e+00\n",
      "Epoch 15/20\n",
      "0s - loss: 6.6361 - acc: 0.6000 - val_loss: 16.3065 - val_acc: 0.0000e+00\n",
      "Epoch 16/20\n",
      "0s - loss: 6.6353 - acc: 0.6000 - val_loss: 16.3057 - val_acc: 0.0000e+00\n",
      "Epoch 17/20\n",
      "0s - loss: 6.6345 - acc: 0.6000 - val_loss: 16.3048 - val_acc: 0.0000e+00\n",
      "Epoch 18/20\n",
      "0s - loss: 6.6337 - acc: 0.6000 - val_loss: 16.3040 - val_acc: 0.0000e+00\n",
      "Epoch 19/20\n",
      "0s - loss: 6.6328 - acc: 0.6000 - val_loss: 16.3032 - val_acc: 0.0000e+00\n",
      "Epoch 20/20\n",
      "0s - loss: 6.6320 - acc: 0.6000 - val_loss: 16.3024 - val_acc: 0.0000e+00\n",
      "_________________________________________________________________\n",
      "Layer (type)                 Output Shape              Param #   \n",
      "=================================================================\n",
      "dense_55 (Dense)             (None, 16)                48        \n",
      "_________________________________________________________________\n",
      "dense_56 (Dense)             (None, 32)                544       \n",
      "_________________________________________________________________\n",
      "dense_57 (Dense)             (None, 2)                 66        \n",
      "=================================================================\n",
      "Total params: 658\n",
      "Trainable params: 658\n",
      "Non-trainable params: 0\n",
      "_________________________________________________________________\n"
     ]
    }
   ],
   "source": [
    "from keras.models import Sequential\n",
    "from keras.layers import Activation,Dense\n",
    "from keras.layers.core import Dense\n",
    "from keras.optimizers import Adam\n",
    "from keras.metrics import categorical_crossentropy\n",
    "from keras import regularizers \n",
    "\n",
    "model=Sequential([Dense(16,input_shape=(2,),activation='relu'),\n",
    "                  Dense(32,activation='relu',kernel_regularizer=regularizers.l2(0.01)),\n",
    "                  Dense(2,activation='softmax')])\n",
    "Train_samples=[[150,67],[130,60],[200,65],[125,52],[230,72],[181,70]]\n",
    "Train_labels=[1,1,0,1,0,0]\n",
    "model.compile(Adam(lr=0.0001),loss='sparse_categorical_crossentropy',metrics=['accuracy'])\n",
    "\n",
    "model.fit(x=Train_samples,y=Train_labels,validation_split=0.1,batch_size=1,epochs=20,shuffle=True,verbose=2)\n",
    "\n",
    "model.summary()"
   ]
  },
  {
   "cell_type": "code",
   "execution_count": null,
   "metadata": {
    "scrolled": true
   },
   "outputs": [],
   "source": [
    "Epoch 1/20\n",
    "5/5 [==============================] - 0s - loss: 2.6075 - acc: 0.2000 - val_loss: 1.5945 - val_acc: 0.0000e+00"
   ]
  },
  {
   "cell_type": "code",
   "execution_count": null,
   "metadata": {
    "collapsed": true
   },
   "outputs": [],
   "source": [
    "Epoch 1/20\n",
    "0s - loss: 6.6481 - acc: 0.6000 - val_loss: 16.3185 - val_acc: 0.0000e+00"
   ]
  }
 ],
 "metadata": {
  "kernelspec": {
   "display_name": "Python 3",
   "language": "python",
   "name": "python3"
  },
  "language_info": {
   "codemirror_mode": {
    "name": "ipython",
    "version": 3
   },
   "file_extension": ".py",
   "mimetype": "text/x-python",
   "name": "python",
   "nbconvert_exporter": "python",
   "pygments_lexer": "ipython3",
   "version": "3.6.3"
  }
 },
 "nbformat": 4,
 "nbformat_minor": 2
}
