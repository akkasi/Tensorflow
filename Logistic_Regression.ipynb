{
 "cells": [
  {
   "cell_type": "markdown",
   "metadata": {},
   "source": [
    "## This snnipet code show the implementation of Logistic Regression using Tensorflow.\n",
    "### Here we produce imaginary data using data class "
   ]
  },
  {
   "cell_type": "code",
   "execution_count": 5,
   "metadata": {},
   "outputs": [],
   "source": [
    "import tensorflow as tf\n",
    "from util.data import *\n",
    "import numpy as np\n"
   ]
  },
  {
   "cell_type": "markdown",
   "metadata": {},
   "source": [
    "### Data  and Parameters -----------------------------------------------------------\n"
   ]
  },
  {
   "cell_type": "code",
   "execution_count": 5,
   "metadata": {},
   "outputs": [],
   "source": [
    "learning_rate=0.01\n",
    "epoch_number=200\n",
    "Sample_Number=100000\n",
    "Feature_Number=1024\n",
    "batch_size=256\n",
    "Diplay_step=100"
   ]
  },
  {
   "cell_type": "markdown",
   "metadata": {},
   "source": [
    "#### Instead of using the most popular data set for deep learning (mnist), I decided to create a toy data set. Each sample in this new  data set is the binary from of numbers in range(0,Sample_Number) in shuffeled form. Also the labels are integers in range (0,9)  which equal to (number of ones in sample) mode 10. In addition all labels are in one-hot format\n",
    "#### After creating a full data set, it's devided into Test and Train samples with their respective labels according to the Test_percentage.\n"
   ]
  },
  {
   "cell_type": "code",
   "execution_count": null,
   "metadata": {
    "collapsed": true
   },
   "outputs": [],
   "source": [
    "DataObj=data.Data(data_len=Feature_Number,Sample_Number=Sample_Number,Test_percentage=40)\n",
    "Train_x,Train_y,Test_x,Test_y=DataObj.CNN_data()\n",
    "Number_of_batches=int(len(Train_x)/batch_size)"
   ]
  },
  {
   "cell_type": "markdown",
   "metadata": {},
   "source": [
    "### Structure Definition---------------------------------------------------\n"
   ]
  },
  {
   "cell_type": "code",
   "execution_count": 6,
   "metadata": {},
   "outputs": [],
   "source": [
    "X=tf.placeholder(dtype=tf.float32,shape=[None,Feature_Number])\n",
    "Y=tf.placeholder(dtype=tf.float32,shape=[None,10]) # Number of classes is 10\n",
    "\n",
    "W=tf.Variable(tf.random_normal([Feature_Number,10],stddev=0.01))\n",
    "\n",
    "b=tf.Variable(tf.zeros([10]))\n",
    "\n",
    "def model(X,W,b):\n",
    "    result=tf.matmul(X,W)+b # Matrix multiplication\n",
    "    return tf.nn.softmax(result)\n",
    "# Prediction is of the vector of probabilities form shows the confidence of each classs\n",
    "Prediction=model(X,W,b)\n",
    "\n",
    "# Minimize error using cross entropy with logits\n",
    "cost=tf.reduce_mean(tf.nn.softmax_cross_entropy_with_logits(logits=Prediction,labels=Y))\n",
    "\n",
    "# Minimize error using cross entropy\n",
    "#cost = tf.reduce_mean(-tf.reduce_sum(Y*tf.log(Prediction), reduction_indices=1))\n",
    "\n",
    "\n",
    "train_step=tf.train.GradientDescentOptimizer(learning_rate).minimize(cost)\n",
    "\n",
    "predicted_label=tf.equal(tf.argmax(Prediction, 1), tf.argmax(Y, 1)) \n",
    "Accuracy=tf.reduce_mean(tf.cast(predicted_label, \"float\"))\n",
    "\n"
   ]
  },
  {
   "cell_type": "markdown",
   "metadata": {},
   "source": [
    "### Running Graph-----------------------------------------------------------------------"
   ]
  },
  {
   "cell_type": "code",
   "execution_count": 2,
   "metadata": {},
   "outputs": [
    {
     "ename": "NameError",
     "evalue": "name 'tf' is not defined",
     "output_type": "error",
     "traceback": [
      "\u001b[0;31m---------------------------------------------------------------------------\u001b[0m",
      "\u001b[0;31mNameError\u001b[0m                                 Traceback (most recent call last)",
      "\u001b[0;32m<ipython-input-2-6ecb4f12826a>\u001b[0m in \u001b[0;36m<module>\u001b[0;34m()\u001b[0m\n\u001b[0;32m----> 1\u001b[0;31m \u001b[0;32mwith\u001b[0m \u001b[0mtf\u001b[0m\u001b[0;34m.\u001b[0m\u001b[0mSession\u001b[0m\u001b[0;34m(\u001b[0m\u001b[0;34m)\u001b[0m \u001b[0;32mas\u001b[0m \u001b[0msess\u001b[0m\u001b[0;34m:\u001b[0m\u001b[0;34m\u001b[0m\u001b[0m\n\u001b[0m\u001b[1;32m      2\u001b[0m     \u001b[0msess\u001b[0m\u001b[0;34m.\u001b[0m\u001b[0mrun\u001b[0m\u001b[0;34m(\u001b[0m\u001b[0mtf\u001b[0m\u001b[0;34m.\u001b[0m\u001b[0mglobal_variables_initializer\u001b[0m\u001b[0;34m(\u001b[0m\u001b[0;34m)\u001b[0m\u001b[0;34m)\u001b[0m\u001b[0;34m\u001b[0m\u001b[0m\n\u001b[1;32m      3\u001b[0m     \u001b[0;32mfor\u001b[0m \u001b[0mi\u001b[0m \u001b[0;32min\u001b[0m \u001b[0mrange\u001b[0m\u001b[0;34m(\u001b[0m\u001b[0mepoch_number\u001b[0m\u001b[0;34m)\u001b[0m\u001b[0;34m:\u001b[0m\u001b[0;34m\u001b[0m\u001b[0m\n\u001b[1;32m      4\u001b[0m         \u001b[0mprint\u001b[0m\u001b[0;34m(\u001b[0m\u001b[0mi\u001b[0m\u001b[0;34m)\u001b[0m\u001b[0;34m\u001b[0m\u001b[0m\n\u001b[1;32m      5\u001b[0m         \u001b[0mavg_cost\u001b[0m\u001b[0;34m=\u001b[0m\u001b[0;36m0\u001b[0m\u001b[0;34m\u001b[0m\u001b[0m\n",
      "\u001b[0;31mNameError\u001b[0m: name 'tf' is not defined"
     ]
    }
   ],
   "source": [
    "with tf.Session() as sess:\n",
    "    sess.run(tf.global_variables_initializer())\n",
    "    for i in range(epoch_number):\n",
    "        avg_cost=0\n",
    "        for j in range(Number_of_batches):            \n",
    "            Trx,Try=next_batch(batch_size, Train_x,Train_y)\n",
    "            sess.run(train_step,feed_dict={X:Trx,Y:Try})\n",
    "            avg_cost+=sess.run(cost,feed_dict={X:Trx,Y:Try})/Number_of_batches\n",
    "        \n",
    "        # Shows Cost and accuracy on Train and Test data \n",
    "        if i%Diplay_step==0:\n",
    "            Train_Accuracy=sess.run(Accuracy,feed_dict={X:Trx,Y:Try})\n",
    "            Test_Accuracy=sess.run(Accuracy,feed_dict={X:Test_x,Y:Test_y})\n",
    "        \n",
    "            print (\"Epoch: %03d/%03d cost: %.9f train_acc: %.3f test_acc: %.3f\" \n",
    "                   % (i, epoch_number, avg_cost, Train_Accuracy, Test_Accuracy))\n",
    "        "
   ]
  },
  {
   "cell_type": "code",
   "execution_count": null,
   "metadata": {
    "collapsed": true
   },
   "outputs": [],
   "source": []
  },
  {
   "cell_type": "code",
   "execution_count": null,
   "metadata": {
    "collapsed": true
   },
   "outputs": [],
   "source": []
  }
 ],
 "metadata": {
  "kernelspec": {
   "display_name": "Python 3",
   "language": "python",
   "name": "python3"
  },
  "language_info": {
   "codemirror_mode": {
    "name": "ipython",
    "version": 3
   },
   "file_extension": ".py",
   "mimetype": "text/x-python",
   "name": "python",
   "nbconvert_exporter": "python",
   "pygments_lexer": "ipython3",
   "version": "3.6.3"
  }
 },
 "nbformat": 4,
 "nbformat_minor": 2
}
