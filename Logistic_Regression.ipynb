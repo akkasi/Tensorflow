{
 "cells": [
  {
   "cell_type": "markdown",
   "metadata": {},
   "source": [
    "\n",
    "\n",
    "\n",
    "\n",
    "\n",
    "\n",
    "## This snnipet code show the implementation of Logistic Regression using Tensorflow.\n",
    "### Here we produce imaginary data using data class "
   ]
  },
  {
   "cell_type": "code",
   "execution_count": 5,
   "metadata": {
    "collapsed": true
   },
   "outputs": [],
   "source": [
    "import tensorflow as tf\n",
    "from util.data import *\n",
    "import numpy as np\n"
   ]
  },
  {
   "cell_type": "markdown",
   "metadata": {},
   "source": [
    "### Data  and Parameters -----------------------------------------------------------\n"
   ]
  },
  {
   "cell_type": "code",
   "execution_count": 6,
   "metadata": {
    "collapsed": true
   },
   "outputs": [],
   "source": [
    "learning_rate=0.01\n",
    "epoch_number=200\n",
    "Sample_Number=1000\n",
    "Feature_Number=1024\n",
    "batch_size=256\n",
    "Diplay_step=100"
   ]
  },
  {
   "cell_type": "markdown",
   "metadata": {},
   "source": [
    "#### Instead of using the most popular data set for deep learning (mnist), I decided to create a toy data set. Each sample in this new  data set is the binary from of numbers in range(0,Sample_Number) in shuffeled form. Also the labels are integers in range (0,9)  which equal to (number of ones in sample) mode 10. In addition all labels are in one-hot format\n",
    "#### After creating a full data set, it's devided into Test and Train samples with their respective labels according to the Test_percentage.\n"
   ]
  },
  {
   "cell_type": "code",
   "execution_count": 11,
   "metadata": {
    "collapsed": true
   },
   "outputs": [],
   "source": [
    "DataObj=Data(data_len=Feature_Number,Sample_Number=Sample_Number,Test_percentage=40)\n",
    "Train_x,Train_y,Test_x,Test_y=DataObj.CNN_data()\n",
    "Number_of_batches=int(len(Train_x)/batch_size)"
   ]
  },
  {
   "cell_type": "markdown",
   "metadata": {},
   "source": [
    "### Structure Definition---------------------------------------------------\n"
   ]
  },
  {
   "cell_type": "code",
   "execution_count": 17,
   "metadata": {
    "collapsed": true
   },
   "outputs": [],
   "source": [
    "with tf.name_scope(\"Inputs\"):\n",
    "       \n",
    "    X=tf.placeholder(dtype=tf.float32,shape=[None,Feature_Number],name='x_inputs')\n",
    "    Y=tf.placeholder(dtype=tf.float32,shape=[None,10],name='y') # Number of classes is 10\n",
    "with tf.name_scope('Weights'):\n",
    "    \n",
    "    W=tf.Variable(tf.random_normal([Feature_Number,10],stddev=0.01),name='W')\n",
    "with tf.name_scope('biases'):\n",
    "    b=tf.Variable(tf.zeros([10]),name='b')\n",
    "\n",
    "def model(X,W,b):\n",
    "    with tf.name_scope('Model'):\n",
    "        result=tf.add(tf.matmul(X,W,name='matmul'),b,name='bias_addition') # Matrix multiplication\n",
    "        return tf.nn.softmax(result,name='softmax')\n",
    "# Prediction is of the vector of probabilities form shows the confidence of each classs\n",
    "Prediction=model(X,W,b)\n",
    "\n",
    "# Minimize error using cross entropy with logits\n",
    "with tf.name_scope('cost'):\n",
    "    cost=tf.reduce_mean(tf.nn.softmax_cross_entropy_with_logits(logits=Prediction,labels=Y),name='reduce_mean')\n",
    "    \n",
    "# Minimize error using cross entropy\n",
    "#cost = tf.reduce_mean(-tf.reduce_sum(Y*tf.log(Prediction), reduction_indices=1))\n",
    "\n",
    "with tf.name_scope('train'):\n",
    "    train_step=tf.train.GradientDescentOptimizer(learning_rate).minimize(cost)\n",
    "\n",
    "predicted_label=tf.equal(tf.argmax(Prediction, 1), tf.argmax(Y, 1)) \n",
    "with tf.name_scope('Accuracy'):\n",
    "    Accuracy=tf.reduce_mean(tf.cast(predicted_label, \"float\"),name='Accuracy')\n",
    "\n"
   ]
  },
  {
   "cell_type": "markdown",
   "metadata": {},
   "source": [
    "### Running Graph-----------------------------------------------------------------------"
   ]
  },
  {
   "cell_type": "code",
   "execution_count": 18,
   "metadata": {},
   "outputs": [
    {
     "name": "stdout",
     "output_type": "stream",
     "text": [
      "Epoch: 000/200 cost: 2.302622795 train_acc: 0.082 test_acc: 0.095\n",
      "Epoch: 100/200 cost: 2.300885081 train_acc: 0.238 test_acc: 0.203\n"
     ]
    }
   ],
   "source": [
    "with tf.Session() as sess:\n",
    "    writer=tf.summary.FileWriter('log/',sess.graph)\n",
    "    sess.run(tf.global_variables_initializer())\n",
    "    for i in range(epoch_number):\n",
    "        avg_cost=0\n",
    "        for j in range(Number_of_batches):            \n",
    "            Trx,Try=next_batch(batch_size, Train_x,Train_y)\n",
    "            sess.run(train_step,feed_dict={X:Trx,Y:Try})\n",
    "            avg_cost+=sess.run(cost,feed_dict={X:Trx,Y:Try})/Number_of_batches\n",
    "        \n",
    "        # Shows Cost and accuracy on Train and Test data \n",
    "        if i%Diplay_step==0:\n",
    "            Train_Accuracy=sess.run(Accuracy,feed_dict={X:Trx,Y:Try})\n",
    "            Test_Accuracy=sess.run(Accuracy,feed_dict={X:Test_x,Y:Test_y})\n",
    "        \n",
    "            print (\"Epoch: %03d/%03d cost: %.9f train_acc: %.3f test_acc: %.3f\" \n",
    "                   % (i, epoch_number, avg_cost, Train_Accuracy, Test_Accuracy))\n",
    "        "
   ]
  },
  {
   "cell_type": "code",
   "execution_count": null,
   "metadata": {
    "collapsed": true
   },
   "outputs": [],
   "source": []
  },
  {
   "cell_type": "code",
   "execution_count": null,
   "metadata": {
    "collapsed": true
   },
   "outputs": [],
   "source": []
  }
 ],
 "metadata": {
  "kernelspec": {
   "display_name": "Python 3",
   "language": "python",
   "name": "python3"
  },
  "language_info": {
   "codemirror_mode": {
    "name": "ipython",
    "version": 3
   },
   "file_extension": ".py",
   "mimetype": "text/x-python",
   "name": "python",
   "nbconvert_exporter": "python",
   "pygments_lexer": "ipython3",
   "version": "3.6.3"
  }
 },
 "nbformat": 4,
 "nbformat_minor": 2
}
