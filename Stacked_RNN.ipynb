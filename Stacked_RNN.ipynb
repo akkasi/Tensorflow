{
 "cells": [
  {
   "cell_type": "markdown",
   "metadata": {},
   "source": [
    "### The simple one directional RNN is implemented here. \n",
    "#### The data set used here is as same as the one we used for other networks. Only difference is that instead of considering data in a matix form, the number of rows is considered as number of time steps and the numberof features (columns) is considered as the number of rnn cells."
   ]
  },
  {
   "cell_type": "code",
   "execution_count": 1,
   "metadata": {
    "collapsed": true
   },
   "outputs": [],
   "source": [
    "from math import sqrt\n",
    "import tensorflow as tf\n",
    "from tensorflow.contrib import rnn \n",
    "from util.data import *"
   ]
  },
  {
   "cell_type": "markdown",
   "metadata": {},
   "source": [
    "### Parameters ----------------------------------------------------------------------------"
   ]
  },
  {
   "cell_type": "code",
   "execution_count": 8,
   "metadata": {
    "collapsed": true
   },
   "outputs": [],
   "source": [
    "learning_rate=0.001\n",
    "batch_size=256\n",
    "display_step=100\n",
    "epochs=1000\n",
    "Sample_number=10000\n",
    "Feature_Number=1024\n",
    "\n",
    "Number_of_RNN_layers=3\n",
    "\n",
    "#output_keep_prob=0.8   In case you want to apply droup out on cells\n",
    "\n",
    "DataObj=Data(data_len=Feature_Number,Sample_Number=Sample_number,Test_percentage=40)\n",
    "Train_x,Train_y,Test_x,Test_y=DataObj.CNN_data()\n",
    "Number_of_batches=int(len(Train_x)/batch_size)\n",
    "\n",
    "timesteps=int(sqrt(Feature_Number))\n",
    "Input_size_for_each_Cell=int(sqrt(Feature_Number))\n",
    "\n",
    "Number_of_hidden_units_in_eachCell= 200\n",
    "\n",
    "X=tf.placeholder(\"float\",[None,timesteps,Input_size_for_each_Cell])\n",
    "Y=tf.placeholder(\"float\",[None,10])\n",
    "\n",
    "# RE weights, we only need to define the weights of output layer\n",
    "Weights={'Ow':tf.Variable(tf.random_normal([Number_of_hidden_units_in_eachCell,10],stddev=0.01)),\n",
    "'Ob':tf.Variable(tf.random_normal([10],stddev=0.01))}\n"
   ]
  },
  {
   "cell_type": "markdown",
   "metadata": {},
   "source": [
    "#### Model and structure definition ------------------------------------------------------------------ "
   ]
  },
  {
   "cell_type": "code",
   "execution_count": 9,
   "metadata": {
    "collapsed": true
   },
   "outputs": [],
   "source": [
    "def RNN_Model(X,weights):\n",
    "    \n",
    "    # First of all, the input data must be reshaped into the form of timesteps*batchSize*Number_of_rnn_cells\n",
    "    # the original shape of X is batchSize*timesteps*Number_of_rnn_cells\n",
    "    \n",
    "    X=tf.unstack(X,timesteps,1)\n",
    "    # define a list of rnn cells with tensorflow\n",
    "    cells=[]\n",
    "    for i in range(Number_of_RNN_layers):\n",
    "        cell=rnn.BasicRNNCell(Number_of_hidden_units_in_eachCell)\n",
    "        # It is also possible to use dropout technique here during cell definition.\n",
    "        # In the case that we want to apply dropout we can use the follwing instruction before adding a defined cell into the list\n",
    "        #cell=rnn.DropoutWrapper(cell,output_keep_prob=output_keep_prob)\n",
    "        cells.append(cell)\n",
    "        \n",
    "    rnn_cell=rnn.MultiRNNCell(cells)  \n",
    "    \n",
    "    Outputs,States=rnn.static_rnn(rnn_cell,X,dtype=tf.float32)\n",
    "    out=tf.matmul(Outputs[-1],weights['Ow'])+weights['Ob']\n",
    "    return tf.nn.softmax(out)"
   ]
  },
  {
   "cell_type": "code",
   "execution_count": 10,
   "metadata": {
    "collapsed": true
   },
   "outputs": [],
   "source": [
    "Prediction=RNN_Model(X,Weights)\n",
    "cost=tf.reduce_mean(tf.nn.softmax_cross_entropy_with_logits(logits=Prediction,labels=Y))\n",
    "train_step=tf.train.GradientDescentOptimizer(learning_rate).minimize(cost)\n",
    "True_Predictions=tf.equal(tf.argmax(Prediction,1),tf.argmax(Y,1))\n",
    "Accuracy=tf.reduce_mean(tf.cast(True_Predictions,'float'))\n"
   ]
  },
  {
   "cell_type": "markdown",
   "metadata": {},
   "source": [
    "#### Graph running --------------------------------------------------------------------------------"
   ]
  },
  {
   "cell_type": "code",
   "execution_count": null,
   "metadata": {
    "collapsed": true
   },
   "outputs": [],
   "source": [
    "with tf.Session() as sess:\n",
    "    sess.run(tf.global_variables_initializer())\n",
    "    for i in range(epochs):\n",
    "        avg_cost=0\n",
    "        for j in range(Number_of_batches):\n",
    "            Trx,Try=next_batch(batch_size, Train_x,Train_y)\n",
    "            # Reshape Inputs into batch_size*timesteps*Input_size_for_each_Cell form\n",
    "            Trx=Trx.reshape(batch_size,timesteps,Input_size_for_each_Cell)\n",
    "            sess.run(train_step,feed_dict={X:Trx,Y:Try})\n",
    "            avg_cost+=sess.run(cost,feed_dict={X:Trx,Y:Try})/Number_of_batches\n",
    "        if i%display_step==0:\n",
    "            \n",
    "            Train_Accuracy=sess.run(Accuracy,feed_dict={X:Trx,Y:Try})\n",
    "            Test_x=Test_x.reshape(-1,timesteps,Input_size_for_each_Cell)\n",
    "            Test_Accuracy=sess.run(Accuracy,feed_dict={X:Test_x,Y:Test_y})\n",
    "            print (\"Epoch: %03d/%03d cost: %.9f train_acc: %.3f test_acc: %.3f\" \n",
    "                   % (i, epochs, avg_cost, Train_Accuracy, Test_Accuracy))\n",
    "sess.close()"
   ]
  }
 ],
 "metadata": {
  "kernelspec": {
   "display_name": "Python 3",
   "language": "python",
   "name": "python3"
  },
  "language_info": {
   "codemirror_mode": {
    "name": "ipython",
    "version": 3
   },
   "file_extension": ".py",
   "mimetype": "text/x-python",
   "name": "python",
   "nbconvert_exporter": "python",
   "pygments_lexer": "ipython3",
   "version": "3.6.3"
  }
 },
 "nbformat": 4,
 "nbformat_minor": 2
}
