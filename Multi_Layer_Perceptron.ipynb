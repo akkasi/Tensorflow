{
 "cells": [
  {
   "cell_type": "markdown",
   "metadata": {
    "collapsed": true
   },
   "source": [
    "#### Here 3 layers MLP is implemented. The data set used here is as same as that  is used for Simple_Perceptron."
   ]
  },
  {
   "cell_type": "code",
   "execution_count": null,
   "metadata": {
    "collapsed": true
   },
   "outputs": [],
   "source": [
    "import tensorflow as tf\n",
    "from util.data import *\n"
   ]
  },
  {
   "cell_type": "markdown",
   "metadata": {},
   "source": [
    "##### Data and Parameters ----------------------------------------------------------------"
   ]
  },
  {
   "cell_type": "code",
   "execution_count": null,
   "metadata": {},
   "outputs": [],
   "source": [
    "learnin_rate=0.01\n",
    "epochs=200\n",
    "display_step=50\n",
    "Feature_Number=1024\n",
    "Sample_Number=10000\n",
    "batch_size=256\n",
    "\n",
    "DataObj=Data(data_len=Feature_Number,Sample_Number=Sample_Number,Test_percentage=40)\n",
    "Train_x,Train_y,Test_x,Test_y=DataObj.CNN_data()\n",
    "Number_of_batches=int(len(Train_x)/batch_size)\n",
    "\n",
    "# There is nothing behind the number of hiiden units choosen for the layers\n",
    "n_hidden1=700\n",
    "n_hidden2=700\n",
    "n_hidden3=700\n",
    "n_o=10 # number of calasses\n"
   ]
  },
  {
   "cell_type": "markdown",
   "metadata": {},
   "source": [
    "#### Structure Definition----------------------------------------------------------\n"
   ]
  },
  {
   "cell_type": "code",
   "execution_count": null,
   "metadata": {},
   "outputs": [],
   "source": [
    "X=tf.placeholder(dtype=tf.float32,shape=[None,Feature_Number])\n",
    "Y=tf.placeholder(dtype=tf.float32,shape=[None,10])\n",
    "\n",
    "\n",
    "Weights={'hidden1':tf.Variable(tf.random_normal([Feature_Number,n_hidden1],stddev=0.01)),\n",
    "        'hidden2':tf.Variable(tf.random_normal([n_hidden1,n_hidden2],stddev=0.01)),\n",
    "        'hidden3':tf.Variable(tf.random_normal([n_hidden2,n_hidden3],stddev=0.01)),\n",
    "        'Out':tf.Variable(tf.random_normal([n_hidden3,n_o],stddev=0.01))}\n",
    "\n",
    "biases={'b1':tf.Variable(tf.zeros([n_hidden1]),dtype=tf.float32),\n",
    "       'b2':tf.Variable(tf.zeros([n_hidden2]),dtype=tf.float32),\n",
    "       'b3':tf.Variable(tf.zeros([n_hidden3]),dtype=tf.float32),\n",
    "       'bo':tf.Variable(tf.zeros([n_o]),dtype=tf.float32)}\n",
    "\n",
    "def model(X,W,b):\n",
    "    h1=tf.nn.tanh(tf.add(tf.matmul(X,W['hidden1']),b['b1']))\n",
    "    h2=tf.nn.relu(tf.add(tf.matmul(h1,W['hidden2']),b['b2']))\n",
    "    h3=tf.nn.sigmoid(tf.add(tf.matmul(h2,W['hidden3']),b['b3']))\n",
    "    out=tf.nn.relu(tf.add(tf.matmul(h3,W['Out']),b['bo']))\n",
    "    results=tf.nn.softmax(out)\n",
    "    return results\n",
    "\n",
    "Pred=model(X,Weights,biases)\n",
    "\n",
    "cost=tf.reduce_mean(tf.nn.softmax_cross_entropy_with_logits(logits=Pred,labels=Y))\n",
    "train_step=tf.train.GradientDescentOptimizer(learnin_rate).minimize(cost)\n",
    "\n",
    "Correct_predictions=tf.equal(tf.argmax(Pred,1),tf.argmax(Y,1))\n",
    "Accuracy=tf.reduce_mean(tf.cast(Correct_predictions,\"float\"))\n",
    "\n"
   ]
  },
  {
   "cell_type": "markdown",
   "metadata": {},
   "source": [
    "#### Graph Running --------------------------------------------------------------------------"
   ]
  },
  {
   "cell_type": "code",
   "execution_count": null,
   "metadata": {},
   "outputs": [],
   "source": [
    "with tf.Session() as sess:\n",
    "    sess.run(tf.global_variables_initializer())\n",
    "    for i in range(epochs):\n",
    "        avg_cost=0\n",
    "        for j in range(Number_of_batches) :\n",
    "            Trx,Try=next_batch(batch_size, Train_x,Train_y)\n",
    "            sess.run(train_step,feed_dict={X:Trx,Y:Try})\n",
    "            avg_cost+=sess.run(cost,feed_dict={X:Trx,Y:Try})/Number_of_batches\n",
    "        if i% display_step==0:\n",
    "            Train_Accuracy=sess.run(Accuracy,feed_dict={X:Train_x,Y:Train_y})\n",
    "            Test_Accuracy=sess.run(Accuracy,feed_dict={X:Test_x,Y:Test_y})\n",
    "            print (\"Epoch: %03d/%03d cost: %.9f train_acc: %.3f test_acc: %.3f\" \n",
    "                   % (i, epochs, avg_cost, Train_Accuracy, Test_Accuracy))\n",
    "sess.close()\n",
    "# Don't worry if you get low and repetitive accuracy on Test data!!"
   ]
  },
  {
   "cell_type": "code",
   "execution_count": null,
   "metadata": {
    "collapsed": true
   },
   "outputs": [],
   "source": []
  }
 ],
 "metadata": {
  "kernelspec": {
   "display_name": "Python 3",
   "language": "python",
   "name": "python3"
  },
  "language_info": {
   "codemirror_mode": {
    "name": "ipython",
    "version": 3
   },
   "file_extension": ".py",
   "mimetype": "text/x-python",
   "name": "python",
   "nbconvert_exporter": "python",
   "pygments_lexer": "ipython3",
   "version": "3.6.3"
  }
 },
 "nbformat": 4,
 "nbformat_minor": 2
}
