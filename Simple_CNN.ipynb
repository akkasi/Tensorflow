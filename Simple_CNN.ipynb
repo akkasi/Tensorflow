{
 "cells": [
  {
   "cell_type": "markdown",
   "metadata": {},
   "source": [
    "### Here,s simple Convolutional neural Network (CNN) on the same toy data set is implemented. This model consists of single convolutional layer+maxpool and fully connected layer. Furthermore, the concpet of dropout for regularization is also taken into account."
   ]
  },
  {
   "cell_type": "code",
   "execution_count": 6,
   "metadata": {},
   "outputs": [],
   "source": [
    "import tensorflow as tf\n",
    "from util.data import *\n",
    "import numpy as np\n"
   ]
  },
  {
   "cell_type": "markdown",
   "metadata": {},
   "source": [
    "#### Data and Parameters --------------------------------------------------------------------"
   ]
  },
  {
   "cell_type": "code",
   "execution_count": 7,
   "metadata": {},
   "outputs": [
    {
     "name": "stdout",
     "output_type": "stream",
     "text": [
      "(6000, 32, 32, 1)\n",
      "(6000, 10)\n"
     ]
    }
   ],
   "source": [
    "Sample_number=10000\n",
    "Feature_Number=1024\n",
    "batch_size=256\n",
    "learning_rate=0.01\n",
    "display_step=20\n",
    "epochs=100\n",
    "\n",
    "keep_conv=0.8 # uses for dropout in conv layer\n",
    "\n",
    "DataObj=Data(data_len=Feature_Number,Sample_Number=Sample_number,Test_percentage=40)\n",
    "Train_x,Train_y,Test_x,Test_y=DataObj.CNN_data()\n",
    "Number_of_batches=int(len(Train_x)/batch_size)\n",
    "\n",
    "Train_x = np.array(Train_x).reshape(-1, 32, 32, 1)  # input train data in the form of 32x32x1 matrix\n",
    "Test_x = np.array(Test_x).reshape(-1, 32, 32, 1)  # input  test data in the form of 32x32x1 matrix\n",
    "print(Train_x.shape)\n",
    "print(Train_y.shape)"
   ]
  },
  {
   "cell_type": "markdown",
   "metadata": {},
   "source": [
    "#### Structure definition -----------------------------------------------------------------"
   ]
  },
  {
   "cell_type": "code",
   "execution_count": 8,
   "metadata": {
    "collapsed": true
   },
   "outputs": [],
   "source": [
    "X=tf.placeholder(dtype=tf.float32,shape=[None,32,32,1])\n",
    "Y=tf.placeholder(dtype=tf.float32,shape=[None,10])\n",
    "\n",
    "# We are using same padding for conv layer, so the out put of each filter would be a matrix of same shape as input 32*32*1\n",
    "WC=tf.Variable(tf.random_normal([3,3,1,64],stddev=0.01)) # 64 conv filters in the form of 3*3*1 (last 1 shows we use only one channel)\n",
    "bC=tf.Variable(tf.random_normal([64], stddev=0.01)) \n",
    "# After applying maxpool on the output of conv_layer,since we use 2 for stride steps, the output of maxpool layer would divide the number of its input \n",
    "WF=tf.Variable(tf.random_normal([16*16*64,10],stddev=0.01)) # 64 conv filters in the form of 3*3*1 (last 1 shows we use only one channel)\n",
    "bF=tf.Variable(tf.random_normal([10], stddev=0.01))\n",
    "\n",
    "keep_conv= tf.placeholder(\"float\")"
   ]
  },
  {
   "cell_type": "markdown",
   "metadata": {},
   "source": [
    "#### Model and Graph Definition --------------------------------------------"
   ]
  },
  {
   "cell_type": "code",
   "execution_count": 11,
   "metadata": {},
   "outputs": [],
   "source": [
    "def model(X,Conv_layer_W,Fully_layyer_W,Conv_bias,Fully_bias,keep_conv):\n",
    "    \n",
    "    conv=tf.nn.conv2d(X,Conv_layer_W,strides=[1,1,1,1],padding='SAME')\n",
    "    conv=tf.nn.bias_add(conv,bC)\n",
    "    conv=tf.nn.relu(conv)\n",
    "    pool=tf.nn.max_pool(conv,ksize=[1,2,2,1],strides=[1,2,2,1],padding='SAME')\n",
    "    pool=tf.nn.dropout(pool,keep_conv)\n",
    "    # below part is necessary to reshape the output of the pooling layer suitable for matrix multiplication in fully connected layer\n",
    "    Fc=tf.reshape(pool, [-1, Fully_layyer_W.get_shape().as_list()[0]])\n",
    "    out=tf.add(tf.matmul(Fc,Fully_layyer_W),bF)\n",
    "    \n",
    "    return tf.nn.softmax(out)\n",
    "\n",
    "Pred_prob=model(X,WC,WF,bC,bF,keep_conv)\n",
    "predicted_label=tf.equal(tf.argmax(Pred_prob,1),tf.argmax(Y,1))\n",
    "\n",
    "cost=tf.reduce_mean(tf.nn.softmax_cross_entropy_with_logits(logits=Pred_prob,labels=Y))\n",
    "train_step=tf.train.GradientDescentOptimizer(learning_rate).minimize(cost)\n",
    "\n",
    "Accuracy=tf.reduce_mean(tf.cast(predicted_label,'float'))\n",
    "\n",
    "\n",
    "\n",
    "\n",
    "\n"
   ]
  },
  {
   "cell_type": "code",
   "execution_count": null,
   "metadata": {},
   "outputs": [],
   "source": [
    "with tf.Session() as sess:\n",
    "    sess.run(tf.global_variables_initializer())\n",
    "    for i in range(epochs):\n",
    "        avg_cost=0\n",
    "        for j in range(Number_of_batches):\n",
    "            Trx,Try=next_batch(batch_size, Train_x,Train_y)\n",
    "            sess.run(train_step,feed_dict={X:Trx,Y:Try,keep_conv:0.8})\n",
    "            avg_cost+=sess.run(cost,feed_dict={X:Trx,Y:Try,keep_conv:1})/Number_of_batches\n",
    "        if i% display_step==0:\n",
    "            Train_Accuracy=sess.run(Accuracy,feed_dict={X:Train_x,Y:Train_y,keep_conv:1})\n",
    "            Test_Accuracy=sess.run(Accuracy,feed_dict={X:Test_x,Y:Test_y,keep_conv:1})\n",
    "            \n",
    "            print (\"Epoch: %03d/%03d cost: %.9f train_acc: %.3f test_acc: %.3f\" \n",
    "                   % (i, epochs, avg_cost, Train_Accuracy, Test_Accuracy))\n",
    "sess.close()"
   ]
  },
  {
   "cell_type": "code",
   "execution_count": null,
   "metadata": {
    "collapsed": true
   },
   "outputs": [],
   "source": []
  }
 ],
 "metadata": {
  "kernelspec": {
   "display_name": "Python 3",
   "language": "python",
   "name": "python3"
  },
  "language_info": {
   "codemirror_mode": {
    "name": "ipython",
    "version": 3
   },
   "file_extension": ".py",
   "mimetype": "text/x-python",
   "name": "python",
   "nbconvert_exporter": "python",
   "pygments_lexer": "ipython3",
   "version": "3.6.3"
  }
 },
 "nbformat": 4,
 "nbformat_minor": 2
}
